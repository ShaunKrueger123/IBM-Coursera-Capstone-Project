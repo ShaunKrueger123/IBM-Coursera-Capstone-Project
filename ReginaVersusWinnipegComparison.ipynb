{
    "cells": [
        {
            "cell_type": "markdown",
            "metadata": {
                "collapsed": true
            },
            "source": "<h1>Introduction</h1>"
        },
        {
            "cell_type": "markdown",
            "metadata": {},
            "source": "In this report I will be using four square to look at the cities of Regina, Saskatchewan and Winnipeg, Manitoba. Both of these cities are located in the prairie provinces of Canada and while less than 600 km separates them each views themselves as the superior prairie city. I am hoping to use 4 square to see if it is possible to determine which city has more amenities to offer and where in the cities are the best place to live for variety. This report may help people decide which city is nicer to live in and what area of the city they may most enjoy being in."
        },
        {
            "cell_type": "markdown",
            "metadata": {},
            "source": "<h1>Data</h1>"
        },
        {
            "cell_type": "markdown",
            "metadata": {},
            "source": "In the report I will be using 3 main sources of data:<br>\n<ul>\n  <li>Wikipedia: I will collect the postal codes from here for both Regina and Winnipeg</li>\n  <li>the library geocoders: I will use this to look up latitude and longitude from postal codes</li>\n  <li>Foursquare: Where I will be finding information about different venues in the cities</li>\n</ul>\n"
        },
        {
            "cell_type": "markdown",
            "metadata": {},
            "source": "<h1>Methodology</h1>"
        },
        {
            "cell_type": "markdown",
            "metadata": {},
            "source": "For this analysis I did the following:\n<ol>\n  <li>First I found the postal codes for the two cities using Wikipedia</li>\n  <li>I then found the related latitude and longitude for these postal codes</li>\n  <li>I looked up the foursquare reviews around the postal code of the city and grouped them according to their location</li>\n<li>I clustered the data to look for groupings</li>\n<li>lastly I created a map to view the information for the two cities</li>\n</ol>"
        },
        {
            "cell_type": "markdown",
            "metadata": {},
            "source": "<h1>Notebook used for Analysis</h1>"
        },
        {
            "cell_type": "markdown",
            "metadata": {},
            "source": "to view the work I had done on this please see the notebook here: <a href=\" https://github.com/ShaunKrueger123/IBM-Coursera-Capstone-Project/blob/master/ReginaVersusWinnipeg.ipynb\">Data Notebook</a>"
        },
        {
            "cell_type": "markdown",
            "metadata": {},
            "source": "<h1>Results</h1>"
        },
        {
            "cell_type": "markdown",
            "metadata": {},
            "source": "According to my analysis the highest rated place in between these two cities is the west end of Regina. It has a large number of different food venues and a concert hall making it sound like a nice place to live. In looking up information on the area and having lived there myself it is considered the nicest part of the city with many parks and areas to spend time."
        },
        {
            "cell_type": "markdown",
            "metadata": {},
            "source": "<h1>Discussion</h1>"
        },
        {
            "cell_type": "markdown",
            "metadata": {},
            "source": "After having look at the analysis done here I feel it is safe to say both of these cities are fairly similar. Winnipeg is significantly larger than Regina though surprisingly they have a very similar number of entries in foursquare. I believe that the lack of information in foursquare for these cities very much limits how useful the report will be and in a future version I would like to see out other options that may have more information. If I was doing an even more in depth analysis I would find it interesting to include average housing prices and crime rates to the cities to get a more well rounded view of what is going on in each place."
        },
        {
            "cell_type": "markdown",
            "metadata": {},
            "source": "<h1>Conclusion</h1>"
        },
        {
            "cell_type": "markdown",
            "metadata": {},
            "source": "In conclusion this report shows that Regina and Winnipeg are very similar cities in terms of what is offered and the likelihood for people to use foursquare to make recommendation. Though the information is highly limited it seems that the West end of Regina is the highest reviewed and rated and having lived there for a short period of time I would agree that it is one of the nicer communities.\n<br><br>While there were limitation to this analysis I would say that it tracks with what I know about these cities and if I needed to recommend somewhere for a person to live it would be the west end of Regina near the Cathedral.\n"
        }
    ],
    "metadata": {
        "kernelspec": {
            "display_name": "Python 3.7",
            "language": "python",
            "name": "python3"
        },
        "language_info": {
            "codemirror_mode": {
                "name": "ipython",
                "version": 3
            },
            "file_extension": ".py",
            "mimetype": "text/x-python",
            "name": "python",
            "nbconvert_exporter": "python",
            "pygments_lexer": "ipython3",
            "version": "3.7.9"
        }
    },
    "nbformat": 4,
    "nbformat_minor": 1
}